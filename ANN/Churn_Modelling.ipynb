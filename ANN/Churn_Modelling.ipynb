{
  "nbformat": 4,
  "nbformat_minor": 0,
  "metadata": {
    "colab": {
      "name": "Churn-Modelling.ipynb",
      "provenance": [],
      "include_colab_link": true
    },
    "kernelspec": {
      "name": "python3",
      "display_name": "Python 3"
    },
    "language_info": {
      "name": "python"
    },
    "accelerator": "GPU"
  },
  "cells": [
    {
      "cell_type": "markdown",
      "metadata": {
        "id": "view-in-github",
        "colab_type": "text"
      },
      "source": [
        "<a href=\"https://colab.research.google.com/github/suchitaaaa/876.-Middle-of-the-Linked-List/blob/main/ANN/Churn_Modelling.ipynb\" target=\"_parent\"><img src=\"https://colab.research.google.com/assets/colab-badge.svg\" alt=\"Open In Colab\"/></a>"
      ]
    },
    {
      "cell_type": "code",
      "execution_count": null,
      "metadata": {
        "id": "Mnvbj27LUS3X"
      },
      "outputs": [],
      "source": [
        "import numpy as np\n",
        "import matplotlib.pyplot as plt\n",
        "import pandas as pd"
      ]
    },
    {
      "cell_type": "code",
      "source": [
        "dataset = pd.read_csv('https://raw.githubusercontent.com/Pepcoders/Data-Science-January/main/ANN/Churn_Modelling.csv')"
      ],
      "metadata": {
        "id": "AojrrJCRXtKh"
      },
      "execution_count": null,
      "outputs": []
    },
    {
      "cell_type": "code",
      "source": [
        "dataset.head()"
      ],
      "metadata": {
        "colab": {
          "base_uri": "https://localhost:8080/",
          "height": 270
        },
        "id": "58fJjqAxXyxN",
        "outputId": "77e45a5e-0788-4e5b-d234-462d3f71057b"
      },
      "execution_count": null,
      "outputs": [
        {
          "output_type": "execute_result",
          "data": {
            "text/plain": [
              "   RowNumber  CustomerId   Surname  CreditScore Geography  Gender  Age  \\\n",
              "0          1    15634602  Hargrave          619    France  Female   42   \n",
              "1          2    15647311      Hill          608     Spain  Female   41   \n",
              "2          3    15619304      Onio          502    France  Female   42   \n",
              "3          4    15701354      Boni          699    France  Female   39   \n",
              "4          5    15737888  Mitchell          850     Spain  Female   43   \n",
              "\n",
              "   Tenure    Balance  NumOfProducts  HasCrCard  IsActiveMember  \\\n",
              "0       2       0.00              1          1               1   \n",
              "1       1   83807.86              1          0               1   \n",
              "2       8  159660.80              3          1               0   \n",
              "3       1       0.00              2          0               0   \n",
              "4       2  125510.82              1          1               1   \n",
              "\n",
              "   EstimatedSalary  Exited  \n",
              "0        101348.88       1  \n",
              "1        112542.58       0  \n",
              "2        113931.57       1  \n",
              "3         93826.63       0  \n",
              "4         79084.10       0  "
            ],
            "text/html": [
              "\n",
              "  <div id=\"df-d71ca52c-3b04-46b5-af54-6da05ffde376\">\n",
              "    <div class=\"colab-df-container\">\n",
              "      <div>\n",
              "<style scoped>\n",
              "    .dataframe tbody tr th:only-of-type {\n",
              "        vertical-align: middle;\n",
              "    }\n",
              "\n",
              "    .dataframe tbody tr th {\n",
              "        vertical-align: top;\n",
              "    }\n",
              "\n",
              "    .dataframe thead th {\n",
              "        text-align: right;\n",
              "    }\n",
              "</style>\n",
              "<table border=\"1\" class=\"dataframe\">\n",
              "  <thead>\n",
              "    <tr style=\"text-align: right;\">\n",
              "      <th></th>\n",
              "      <th>RowNumber</th>\n",
              "      <th>CustomerId</th>\n",
              "      <th>Surname</th>\n",
              "      <th>CreditScore</th>\n",
              "      <th>Geography</th>\n",
              "      <th>Gender</th>\n",
              "      <th>Age</th>\n",
              "      <th>Tenure</th>\n",
              "      <th>Balance</th>\n",
              "      <th>NumOfProducts</th>\n",
              "      <th>HasCrCard</th>\n",
              "      <th>IsActiveMember</th>\n",
              "      <th>EstimatedSalary</th>\n",
              "      <th>Exited</th>\n",
              "    </tr>\n",
              "  </thead>\n",
              "  <tbody>\n",
              "    <tr>\n",
              "      <th>0</th>\n",
              "      <td>1</td>\n",
              "      <td>15634602</td>\n",
              "      <td>Hargrave</td>\n",
              "      <td>619</td>\n",
              "      <td>France</td>\n",
              "      <td>Female</td>\n",
              "      <td>42</td>\n",
              "      <td>2</td>\n",
              "      <td>0.00</td>\n",
              "      <td>1</td>\n",
              "      <td>1</td>\n",
              "      <td>1</td>\n",
              "      <td>101348.88</td>\n",
              "      <td>1</td>\n",
              "    </tr>\n",
              "    <tr>\n",
              "      <th>1</th>\n",
              "      <td>2</td>\n",
              "      <td>15647311</td>\n",
              "      <td>Hill</td>\n",
              "      <td>608</td>\n",
              "      <td>Spain</td>\n",
              "      <td>Female</td>\n",
              "      <td>41</td>\n",
              "      <td>1</td>\n",
              "      <td>83807.86</td>\n",
              "      <td>1</td>\n",
              "      <td>0</td>\n",
              "      <td>1</td>\n",
              "      <td>112542.58</td>\n",
              "      <td>0</td>\n",
              "    </tr>\n",
              "    <tr>\n",
              "      <th>2</th>\n",
              "      <td>3</td>\n",
              "      <td>15619304</td>\n",
              "      <td>Onio</td>\n",
              "      <td>502</td>\n",
              "      <td>France</td>\n",
              "      <td>Female</td>\n",
              "      <td>42</td>\n",
              "      <td>8</td>\n",
              "      <td>159660.80</td>\n",
              "      <td>3</td>\n",
              "      <td>1</td>\n",
              "      <td>0</td>\n",
              "      <td>113931.57</td>\n",
              "      <td>1</td>\n",
              "    </tr>\n",
              "    <tr>\n",
              "      <th>3</th>\n",
              "      <td>4</td>\n",
              "      <td>15701354</td>\n",
              "      <td>Boni</td>\n",
              "      <td>699</td>\n",
              "      <td>France</td>\n",
              "      <td>Female</td>\n",
              "      <td>39</td>\n",
              "      <td>1</td>\n",
              "      <td>0.00</td>\n",
              "      <td>2</td>\n",
              "      <td>0</td>\n",
              "      <td>0</td>\n",
              "      <td>93826.63</td>\n",
              "      <td>0</td>\n",
              "    </tr>\n",
              "    <tr>\n",
              "      <th>4</th>\n",
              "      <td>5</td>\n",
              "      <td>15737888</td>\n",
              "      <td>Mitchell</td>\n",
              "      <td>850</td>\n",
              "      <td>Spain</td>\n",
              "      <td>Female</td>\n",
              "      <td>43</td>\n",
              "      <td>2</td>\n",
              "      <td>125510.82</td>\n",
              "      <td>1</td>\n",
              "      <td>1</td>\n",
              "      <td>1</td>\n",
              "      <td>79084.10</td>\n",
              "      <td>0</td>\n",
              "    </tr>\n",
              "  </tbody>\n",
              "</table>\n",
              "</div>\n",
              "      <button class=\"colab-df-convert\" onclick=\"convertToInteractive('df-d71ca52c-3b04-46b5-af54-6da05ffde376')\"\n",
              "              title=\"Convert this dataframe to an interactive table.\"\n",
              "              style=\"display:none;\">\n",
              "        \n",
              "  <svg xmlns=\"http://www.w3.org/2000/svg\" height=\"24px\"viewBox=\"0 0 24 24\"\n",
              "       width=\"24px\">\n",
              "    <path d=\"M0 0h24v24H0V0z\" fill=\"none\"/>\n",
              "    <path d=\"M18.56 5.44l.94 2.06.94-2.06 2.06-.94-2.06-.94-.94-2.06-.94 2.06-2.06.94zm-11 1L8.5 8.5l.94-2.06 2.06-.94-2.06-.94L8.5 2.5l-.94 2.06-2.06.94zm10 10l.94 2.06.94-2.06 2.06-.94-2.06-.94-.94-2.06-.94 2.06-2.06.94z\"/><path d=\"M17.41 7.96l-1.37-1.37c-.4-.4-.92-.59-1.43-.59-.52 0-1.04.2-1.43.59L10.3 9.45l-7.72 7.72c-.78.78-.78 2.05 0 2.83L4 21.41c.39.39.9.59 1.41.59.51 0 1.02-.2 1.41-.59l7.78-7.78 2.81-2.81c.8-.78.8-2.07 0-2.86zM5.41 20L4 18.59l7.72-7.72 1.47 1.35L5.41 20z\"/>\n",
              "  </svg>\n",
              "      </button>\n",
              "      \n",
              "  <style>\n",
              "    .colab-df-container {\n",
              "      display:flex;\n",
              "      flex-wrap:wrap;\n",
              "      gap: 12px;\n",
              "    }\n",
              "\n",
              "    .colab-df-convert {\n",
              "      background-color: #E8F0FE;\n",
              "      border: none;\n",
              "      border-radius: 50%;\n",
              "      cursor: pointer;\n",
              "      display: none;\n",
              "      fill: #1967D2;\n",
              "      height: 32px;\n",
              "      padding: 0 0 0 0;\n",
              "      width: 32px;\n",
              "    }\n",
              "\n",
              "    .colab-df-convert:hover {\n",
              "      background-color: #E2EBFA;\n",
              "      box-shadow: 0px 1px 2px rgba(60, 64, 67, 0.3), 0px 1px 3px 1px rgba(60, 64, 67, 0.15);\n",
              "      fill: #174EA6;\n",
              "    }\n",
              "\n",
              "    [theme=dark] .colab-df-convert {\n",
              "      background-color: #3B4455;\n",
              "      fill: #D2E3FC;\n",
              "    }\n",
              "\n",
              "    [theme=dark] .colab-df-convert:hover {\n",
              "      background-color: #434B5C;\n",
              "      box-shadow: 0px 1px 3px 1px rgba(0, 0, 0, 0.15);\n",
              "      filter: drop-shadow(0px 1px 2px rgba(0, 0, 0, 0.3));\n",
              "      fill: #FFFFFF;\n",
              "    }\n",
              "  </style>\n",
              "\n",
              "      <script>\n",
              "        const buttonEl =\n",
              "          document.querySelector('#df-d71ca52c-3b04-46b5-af54-6da05ffde376 button.colab-df-convert');\n",
              "        buttonEl.style.display =\n",
              "          google.colab.kernel.accessAllowed ? 'block' : 'none';\n",
              "\n",
              "        async function convertToInteractive(key) {\n",
              "          const element = document.querySelector('#df-d71ca52c-3b04-46b5-af54-6da05ffde376');\n",
              "          const dataTable =\n",
              "            await google.colab.kernel.invokeFunction('convertToInteractive',\n",
              "                                                     [key], {});\n",
              "          if (!dataTable) return;\n",
              "\n",
              "          const docLinkHtml = 'Like what you see? Visit the ' +\n",
              "            '<a target=\"_blank\" href=https://colab.research.google.com/notebooks/data_table.ipynb>data table notebook</a>'\n",
              "            + ' to learn more about interactive tables.';\n",
              "          element.innerHTML = '';\n",
              "          dataTable['output_type'] = 'display_data';\n",
              "          await google.colab.output.renderOutput(dataTable, element);\n",
              "          const docLink = document.createElement('div');\n",
              "          docLink.innerHTML = docLinkHtml;\n",
              "          element.appendChild(docLink);\n",
              "        }\n",
              "      </script>\n",
              "    </div>\n",
              "  </div>\n",
              "  "
            ]
          },
          "metadata": {},
          "execution_count": 3
        }
      ]
    },
    {
      "cell_type": "code",
      "source": [
        "X = dataset.iloc[:, 3:13]"
      ],
      "metadata": {
        "id": "-7Jcdk4uX0v7"
      },
      "execution_count": null,
      "outputs": []
    },
    {
      "cell_type": "code",
      "source": [
        "X"
      ],
      "metadata": {
        "colab": {
          "base_uri": "https://localhost:8080/",
          "height": 487
        },
        "id": "7VMeDZfTYCy6",
        "outputId": "aca6f895-248f-47ee-a624-42434d0ae3f3"
      },
      "execution_count": null,
      "outputs": [
        {
          "output_type": "execute_result",
          "data": {
            "text/plain": [
              "      CreditScore Geography  Gender  Age  Tenure    Balance  NumOfProducts  \\\n",
              "0             619    France  Female   42       2       0.00              1   \n",
              "1             608     Spain  Female   41       1   83807.86              1   \n",
              "2             502    France  Female   42       8  159660.80              3   \n",
              "3             699    France  Female   39       1       0.00              2   \n",
              "4             850     Spain  Female   43       2  125510.82              1   \n",
              "...           ...       ...     ...  ...     ...        ...            ...   \n",
              "9995          771    France    Male   39       5       0.00              2   \n",
              "9996          516    France    Male   35      10   57369.61              1   \n",
              "9997          709    France  Female   36       7       0.00              1   \n",
              "9998          772   Germany    Male   42       3   75075.31              2   \n",
              "9999          792    France  Female   28       4  130142.79              1   \n",
              "\n",
              "      HasCrCard  IsActiveMember  EstimatedSalary  \n",
              "0             1               1        101348.88  \n",
              "1             0               1        112542.58  \n",
              "2             1               0        113931.57  \n",
              "3             0               0         93826.63  \n",
              "4             1               1         79084.10  \n",
              "...         ...             ...              ...  \n",
              "9995          1               0         96270.64  \n",
              "9996          1               1        101699.77  \n",
              "9997          0               1         42085.58  \n",
              "9998          1               0         92888.52  \n",
              "9999          1               0         38190.78  \n",
              "\n",
              "[10000 rows x 10 columns]"
            ],
            "text/html": [
              "\n",
              "  <div id=\"df-dcdbeea9-4097-4231-86e5-84ee0d145ec0\">\n",
              "    <div class=\"colab-df-container\">\n",
              "      <div>\n",
              "<style scoped>\n",
              "    .dataframe tbody tr th:only-of-type {\n",
              "        vertical-align: middle;\n",
              "    }\n",
              "\n",
              "    .dataframe tbody tr th {\n",
              "        vertical-align: top;\n",
              "    }\n",
              "\n",
              "    .dataframe thead th {\n",
              "        text-align: right;\n",
              "    }\n",
              "</style>\n",
              "<table border=\"1\" class=\"dataframe\">\n",
              "  <thead>\n",
              "    <tr style=\"text-align: right;\">\n",
              "      <th></th>\n",
              "      <th>CreditScore</th>\n",
              "      <th>Geography</th>\n",
              "      <th>Gender</th>\n",
              "      <th>Age</th>\n",
              "      <th>Tenure</th>\n",
              "      <th>Balance</th>\n",
              "      <th>NumOfProducts</th>\n",
              "      <th>HasCrCard</th>\n",
              "      <th>IsActiveMember</th>\n",
              "      <th>EstimatedSalary</th>\n",
              "    </tr>\n",
              "  </thead>\n",
              "  <tbody>\n",
              "    <tr>\n",
              "      <th>0</th>\n",
              "      <td>619</td>\n",
              "      <td>France</td>\n",
              "      <td>Female</td>\n",
              "      <td>42</td>\n",
              "      <td>2</td>\n",
              "      <td>0.00</td>\n",
              "      <td>1</td>\n",
              "      <td>1</td>\n",
              "      <td>1</td>\n",
              "      <td>101348.88</td>\n",
              "    </tr>\n",
              "    <tr>\n",
              "      <th>1</th>\n",
              "      <td>608</td>\n",
              "      <td>Spain</td>\n",
              "      <td>Female</td>\n",
              "      <td>41</td>\n",
              "      <td>1</td>\n",
              "      <td>83807.86</td>\n",
              "      <td>1</td>\n",
              "      <td>0</td>\n",
              "      <td>1</td>\n",
              "      <td>112542.58</td>\n",
              "    </tr>\n",
              "    <tr>\n",
              "      <th>2</th>\n",
              "      <td>502</td>\n",
              "      <td>France</td>\n",
              "      <td>Female</td>\n",
              "      <td>42</td>\n",
              "      <td>8</td>\n",
              "      <td>159660.80</td>\n",
              "      <td>3</td>\n",
              "      <td>1</td>\n",
              "      <td>0</td>\n",
              "      <td>113931.57</td>\n",
              "    </tr>\n",
              "    <tr>\n",
              "      <th>3</th>\n",
              "      <td>699</td>\n",
              "      <td>France</td>\n",
              "      <td>Female</td>\n",
              "      <td>39</td>\n",
              "      <td>1</td>\n",
              "      <td>0.00</td>\n",
              "      <td>2</td>\n",
              "      <td>0</td>\n",
              "      <td>0</td>\n",
              "      <td>93826.63</td>\n",
              "    </tr>\n",
              "    <tr>\n",
              "      <th>4</th>\n",
              "      <td>850</td>\n",
              "      <td>Spain</td>\n",
              "      <td>Female</td>\n",
              "      <td>43</td>\n",
              "      <td>2</td>\n",
              "      <td>125510.82</td>\n",
              "      <td>1</td>\n",
              "      <td>1</td>\n",
              "      <td>1</td>\n",
              "      <td>79084.10</td>\n",
              "    </tr>\n",
              "    <tr>\n",
              "      <th>...</th>\n",
              "      <td>...</td>\n",
              "      <td>...</td>\n",
              "      <td>...</td>\n",
              "      <td>...</td>\n",
              "      <td>...</td>\n",
              "      <td>...</td>\n",
              "      <td>...</td>\n",
              "      <td>...</td>\n",
              "      <td>...</td>\n",
              "      <td>...</td>\n",
              "    </tr>\n",
              "    <tr>\n",
              "      <th>9995</th>\n",
              "      <td>771</td>\n",
              "      <td>France</td>\n",
              "      <td>Male</td>\n",
              "      <td>39</td>\n",
              "      <td>5</td>\n",
              "      <td>0.00</td>\n",
              "      <td>2</td>\n",
              "      <td>1</td>\n",
              "      <td>0</td>\n",
              "      <td>96270.64</td>\n",
              "    </tr>\n",
              "    <tr>\n",
              "      <th>9996</th>\n",
              "      <td>516</td>\n",
              "      <td>France</td>\n",
              "      <td>Male</td>\n",
              "      <td>35</td>\n",
              "      <td>10</td>\n",
              "      <td>57369.61</td>\n",
              "      <td>1</td>\n",
              "      <td>1</td>\n",
              "      <td>1</td>\n",
              "      <td>101699.77</td>\n",
              "    </tr>\n",
              "    <tr>\n",
              "      <th>9997</th>\n",
              "      <td>709</td>\n",
              "      <td>France</td>\n",
              "      <td>Female</td>\n",
              "      <td>36</td>\n",
              "      <td>7</td>\n",
              "      <td>0.00</td>\n",
              "      <td>1</td>\n",
              "      <td>0</td>\n",
              "      <td>1</td>\n",
              "      <td>42085.58</td>\n",
              "    </tr>\n",
              "    <tr>\n",
              "      <th>9998</th>\n",
              "      <td>772</td>\n",
              "      <td>Germany</td>\n",
              "      <td>Male</td>\n",
              "      <td>42</td>\n",
              "      <td>3</td>\n",
              "      <td>75075.31</td>\n",
              "      <td>2</td>\n",
              "      <td>1</td>\n",
              "      <td>0</td>\n",
              "      <td>92888.52</td>\n",
              "    </tr>\n",
              "    <tr>\n",
              "      <th>9999</th>\n",
              "      <td>792</td>\n",
              "      <td>France</td>\n",
              "      <td>Female</td>\n",
              "      <td>28</td>\n",
              "      <td>4</td>\n",
              "      <td>130142.79</td>\n",
              "      <td>1</td>\n",
              "      <td>1</td>\n",
              "      <td>0</td>\n",
              "      <td>38190.78</td>\n",
              "    </tr>\n",
              "  </tbody>\n",
              "</table>\n",
              "<p>10000 rows × 10 columns</p>\n",
              "</div>\n",
              "      <button class=\"colab-df-convert\" onclick=\"convertToInteractive('df-dcdbeea9-4097-4231-86e5-84ee0d145ec0')\"\n",
              "              title=\"Convert this dataframe to an interactive table.\"\n",
              "              style=\"display:none;\">\n",
              "        \n",
              "  <svg xmlns=\"http://www.w3.org/2000/svg\" height=\"24px\"viewBox=\"0 0 24 24\"\n",
              "       width=\"24px\">\n",
              "    <path d=\"M0 0h24v24H0V0z\" fill=\"none\"/>\n",
              "    <path d=\"M18.56 5.44l.94 2.06.94-2.06 2.06-.94-2.06-.94-.94-2.06-.94 2.06-2.06.94zm-11 1L8.5 8.5l.94-2.06 2.06-.94-2.06-.94L8.5 2.5l-.94 2.06-2.06.94zm10 10l.94 2.06.94-2.06 2.06-.94-2.06-.94-.94-2.06-.94 2.06-2.06.94z\"/><path d=\"M17.41 7.96l-1.37-1.37c-.4-.4-.92-.59-1.43-.59-.52 0-1.04.2-1.43.59L10.3 9.45l-7.72 7.72c-.78.78-.78 2.05 0 2.83L4 21.41c.39.39.9.59 1.41.59.51 0 1.02-.2 1.41-.59l7.78-7.78 2.81-2.81c.8-.78.8-2.07 0-2.86zM5.41 20L4 18.59l7.72-7.72 1.47 1.35L5.41 20z\"/>\n",
              "  </svg>\n",
              "      </button>\n",
              "      \n",
              "  <style>\n",
              "    .colab-df-container {\n",
              "      display:flex;\n",
              "      flex-wrap:wrap;\n",
              "      gap: 12px;\n",
              "    }\n",
              "\n",
              "    .colab-df-convert {\n",
              "      background-color: #E8F0FE;\n",
              "      border: none;\n",
              "      border-radius: 50%;\n",
              "      cursor: pointer;\n",
              "      display: none;\n",
              "      fill: #1967D2;\n",
              "      height: 32px;\n",
              "      padding: 0 0 0 0;\n",
              "      width: 32px;\n",
              "    }\n",
              "\n",
              "    .colab-df-convert:hover {\n",
              "      background-color: #E2EBFA;\n",
              "      box-shadow: 0px 1px 2px rgba(60, 64, 67, 0.3), 0px 1px 3px 1px rgba(60, 64, 67, 0.15);\n",
              "      fill: #174EA6;\n",
              "    }\n",
              "\n",
              "    [theme=dark] .colab-df-convert {\n",
              "      background-color: #3B4455;\n",
              "      fill: #D2E3FC;\n",
              "    }\n",
              "\n",
              "    [theme=dark] .colab-df-convert:hover {\n",
              "      background-color: #434B5C;\n",
              "      box-shadow: 0px 1px 3px 1px rgba(0, 0, 0, 0.15);\n",
              "      filter: drop-shadow(0px 1px 2px rgba(0, 0, 0, 0.3));\n",
              "      fill: #FFFFFF;\n",
              "    }\n",
              "  </style>\n",
              "\n",
              "      <script>\n",
              "        const buttonEl =\n",
              "          document.querySelector('#df-dcdbeea9-4097-4231-86e5-84ee0d145ec0 button.colab-df-convert');\n",
              "        buttonEl.style.display =\n",
              "          google.colab.kernel.accessAllowed ? 'block' : 'none';\n",
              "\n",
              "        async function convertToInteractive(key) {\n",
              "          const element = document.querySelector('#df-dcdbeea9-4097-4231-86e5-84ee0d145ec0');\n",
              "          const dataTable =\n",
              "            await google.colab.kernel.invokeFunction('convertToInteractive',\n",
              "                                                     [key], {});\n",
              "          if (!dataTable) return;\n",
              "\n",
              "          const docLinkHtml = 'Like what you see? Visit the ' +\n",
              "            '<a target=\"_blank\" href=https://colab.research.google.com/notebooks/data_table.ipynb>data table notebook</a>'\n",
              "            + ' to learn more about interactive tables.';\n",
              "          element.innerHTML = '';\n",
              "          dataTable['output_type'] = 'display_data';\n",
              "          await google.colab.output.renderOutput(dataTable, element);\n",
              "          const docLink = document.createElement('div');\n",
              "          docLink.innerHTML = docLinkHtml;\n",
              "          element.appendChild(docLink);\n",
              "        }\n",
              "      </script>\n",
              "    </div>\n",
              "  </div>\n",
              "  "
            ]
          },
          "metadata": {},
          "execution_count": 5
        }
      ]
    },
    {
      "cell_type": "code",
      "source": [
        "y=dataset.iloc[:,13]"
      ],
      "metadata": {
        "id": "AQ4qhsocYDWs"
      },
      "execution_count": null,
      "outputs": []
    },
    {
      "cell_type": "code",
      "source": [
        "geography=pd.get_dummies(X[\"Geography\"],drop_first=True)\n",
        "gender=pd.get_dummies(X['Gender'],drop_first=True)"
      ],
      "metadata": {
        "id": "mOK5Y0NUYKeJ"
      },
      "execution_count": null,
      "outputs": []
    },
    {
      "cell_type": "code",
      "source": [
        "X=pd.concat([X,geography,gender],axis=1)"
      ],
      "metadata": {
        "id": "Crs2ruGHYLIK"
      },
      "execution_count": null,
      "outputs": []
    },
    {
      "cell_type": "code",
      "source": [
        "X.drop(['Geography','Gender'],axis=1,inplace=True)"
      ],
      "metadata": {
        "id": "pl4Bx7TRYa8D"
      },
      "execution_count": null,
      "outputs": []
    },
    {
      "cell_type": "code",
      "source": [
        "X"
      ],
      "metadata": {
        "colab": {
          "base_uri": "https://localhost:8080/",
          "height": 487
        },
        "id": "pPMg4gT2Yb6r",
        "outputId": "8983c7df-2bcc-4555-c664-1c63cab53297"
      },
      "execution_count": null,
      "outputs": [
        {
          "output_type": "execute_result",
          "data": {
            "text/plain": [
              "      CreditScore  Age  Tenure    Balance  NumOfProducts  HasCrCard  \\\n",
              "0             619   42       2       0.00              1          1   \n",
              "1             608   41       1   83807.86              1          0   \n",
              "2             502   42       8  159660.80              3          1   \n",
              "3             699   39       1       0.00              2          0   \n",
              "4             850   43       2  125510.82              1          1   \n",
              "...           ...  ...     ...        ...            ...        ...   \n",
              "9995          771   39       5       0.00              2          1   \n",
              "9996          516   35      10   57369.61              1          1   \n",
              "9997          709   36       7       0.00              1          0   \n",
              "9998          772   42       3   75075.31              2          1   \n",
              "9999          792   28       4  130142.79              1          1   \n",
              "\n",
              "      IsActiveMember  EstimatedSalary  Germany  Spain  Male  \n",
              "0                  1        101348.88        0      0     0  \n",
              "1                  1        112542.58        0      1     0  \n",
              "2                  0        113931.57        0      0     0  \n",
              "3                  0         93826.63        0      0     0  \n",
              "4                  1         79084.10        0      1     0  \n",
              "...              ...              ...      ...    ...   ...  \n",
              "9995               0         96270.64        0      0     1  \n",
              "9996               1        101699.77        0      0     1  \n",
              "9997               1         42085.58        0      0     0  \n",
              "9998               0         92888.52        1      0     1  \n",
              "9999               0         38190.78        0      0     0  \n",
              "\n",
              "[10000 rows x 11 columns]"
            ],
            "text/html": [
              "\n",
              "  <div id=\"df-be73fcf6-112b-4d9f-ba80-1a959077e396\">\n",
              "    <div class=\"colab-df-container\">\n",
              "      <div>\n",
              "<style scoped>\n",
              "    .dataframe tbody tr th:only-of-type {\n",
              "        vertical-align: middle;\n",
              "    }\n",
              "\n",
              "    .dataframe tbody tr th {\n",
              "        vertical-align: top;\n",
              "    }\n",
              "\n",
              "    .dataframe thead th {\n",
              "        text-align: right;\n",
              "    }\n",
              "</style>\n",
              "<table border=\"1\" class=\"dataframe\">\n",
              "  <thead>\n",
              "    <tr style=\"text-align: right;\">\n",
              "      <th></th>\n",
              "      <th>CreditScore</th>\n",
              "      <th>Age</th>\n",
              "      <th>Tenure</th>\n",
              "      <th>Balance</th>\n",
              "      <th>NumOfProducts</th>\n",
              "      <th>HasCrCard</th>\n",
              "      <th>IsActiveMember</th>\n",
              "      <th>EstimatedSalary</th>\n",
              "      <th>Germany</th>\n",
              "      <th>Spain</th>\n",
              "      <th>Male</th>\n",
              "    </tr>\n",
              "  </thead>\n",
              "  <tbody>\n",
              "    <tr>\n",
              "      <th>0</th>\n",
              "      <td>619</td>\n",
              "      <td>42</td>\n",
              "      <td>2</td>\n",
              "      <td>0.00</td>\n",
              "      <td>1</td>\n",
              "      <td>1</td>\n",
              "      <td>1</td>\n",
              "      <td>101348.88</td>\n",
              "      <td>0</td>\n",
              "      <td>0</td>\n",
              "      <td>0</td>\n",
              "    </tr>\n",
              "    <tr>\n",
              "      <th>1</th>\n",
              "      <td>608</td>\n",
              "      <td>41</td>\n",
              "      <td>1</td>\n",
              "      <td>83807.86</td>\n",
              "      <td>1</td>\n",
              "      <td>0</td>\n",
              "      <td>1</td>\n",
              "      <td>112542.58</td>\n",
              "      <td>0</td>\n",
              "      <td>1</td>\n",
              "      <td>0</td>\n",
              "    </tr>\n",
              "    <tr>\n",
              "      <th>2</th>\n",
              "      <td>502</td>\n",
              "      <td>42</td>\n",
              "      <td>8</td>\n",
              "      <td>159660.80</td>\n",
              "      <td>3</td>\n",
              "      <td>1</td>\n",
              "      <td>0</td>\n",
              "      <td>113931.57</td>\n",
              "      <td>0</td>\n",
              "      <td>0</td>\n",
              "      <td>0</td>\n",
              "    </tr>\n",
              "    <tr>\n",
              "      <th>3</th>\n",
              "      <td>699</td>\n",
              "      <td>39</td>\n",
              "      <td>1</td>\n",
              "      <td>0.00</td>\n",
              "      <td>2</td>\n",
              "      <td>0</td>\n",
              "      <td>0</td>\n",
              "      <td>93826.63</td>\n",
              "      <td>0</td>\n",
              "      <td>0</td>\n",
              "      <td>0</td>\n",
              "    </tr>\n",
              "    <tr>\n",
              "      <th>4</th>\n",
              "      <td>850</td>\n",
              "      <td>43</td>\n",
              "      <td>2</td>\n",
              "      <td>125510.82</td>\n",
              "      <td>1</td>\n",
              "      <td>1</td>\n",
              "      <td>1</td>\n",
              "      <td>79084.10</td>\n",
              "      <td>0</td>\n",
              "      <td>1</td>\n",
              "      <td>0</td>\n",
              "    </tr>\n",
              "    <tr>\n",
              "      <th>...</th>\n",
              "      <td>...</td>\n",
              "      <td>...</td>\n",
              "      <td>...</td>\n",
              "      <td>...</td>\n",
              "      <td>...</td>\n",
              "      <td>...</td>\n",
              "      <td>...</td>\n",
              "      <td>...</td>\n",
              "      <td>...</td>\n",
              "      <td>...</td>\n",
              "      <td>...</td>\n",
              "    </tr>\n",
              "    <tr>\n",
              "      <th>9995</th>\n",
              "      <td>771</td>\n",
              "      <td>39</td>\n",
              "      <td>5</td>\n",
              "      <td>0.00</td>\n",
              "      <td>2</td>\n",
              "      <td>1</td>\n",
              "      <td>0</td>\n",
              "      <td>96270.64</td>\n",
              "      <td>0</td>\n",
              "      <td>0</td>\n",
              "      <td>1</td>\n",
              "    </tr>\n",
              "    <tr>\n",
              "      <th>9996</th>\n",
              "      <td>516</td>\n",
              "      <td>35</td>\n",
              "      <td>10</td>\n",
              "      <td>57369.61</td>\n",
              "      <td>1</td>\n",
              "      <td>1</td>\n",
              "      <td>1</td>\n",
              "      <td>101699.77</td>\n",
              "      <td>0</td>\n",
              "      <td>0</td>\n",
              "      <td>1</td>\n",
              "    </tr>\n",
              "    <tr>\n",
              "      <th>9997</th>\n",
              "      <td>709</td>\n",
              "      <td>36</td>\n",
              "      <td>7</td>\n",
              "      <td>0.00</td>\n",
              "      <td>1</td>\n",
              "      <td>0</td>\n",
              "      <td>1</td>\n",
              "      <td>42085.58</td>\n",
              "      <td>0</td>\n",
              "      <td>0</td>\n",
              "      <td>0</td>\n",
              "    </tr>\n",
              "    <tr>\n",
              "      <th>9998</th>\n",
              "      <td>772</td>\n",
              "      <td>42</td>\n",
              "      <td>3</td>\n",
              "      <td>75075.31</td>\n",
              "      <td>2</td>\n",
              "      <td>1</td>\n",
              "      <td>0</td>\n",
              "      <td>92888.52</td>\n",
              "      <td>1</td>\n",
              "      <td>0</td>\n",
              "      <td>1</td>\n",
              "    </tr>\n",
              "    <tr>\n",
              "      <th>9999</th>\n",
              "      <td>792</td>\n",
              "      <td>28</td>\n",
              "      <td>4</td>\n",
              "      <td>130142.79</td>\n",
              "      <td>1</td>\n",
              "      <td>1</td>\n",
              "      <td>0</td>\n",
              "      <td>38190.78</td>\n",
              "      <td>0</td>\n",
              "      <td>0</td>\n",
              "      <td>0</td>\n",
              "    </tr>\n",
              "  </tbody>\n",
              "</table>\n",
              "<p>10000 rows × 11 columns</p>\n",
              "</div>\n",
              "      <button class=\"colab-df-convert\" onclick=\"convertToInteractive('df-be73fcf6-112b-4d9f-ba80-1a959077e396')\"\n",
              "              title=\"Convert this dataframe to an interactive table.\"\n",
              "              style=\"display:none;\">\n",
              "        \n",
              "  <svg xmlns=\"http://www.w3.org/2000/svg\" height=\"24px\"viewBox=\"0 0 24 24\"\n",
              "       width=\"24px\">\n",
              "    <path d=\"M0 0h24v24H0V0z\" fill=\"none\"/>\n",
              "    <path d=\"M18.56 5.44l.94 2.06.94-2.06 2.06-.94-2.06-.94-.94-2.06-.94 2.06-2.06.94zm-11 1L8.5 8.5l.94-2.06 2.06-.94-2.06-.94L8.5 2.5l-.94 2.06-2.06.94zm10 10l.94 2.06.94-2.06 2.06-.94-2.06-.94-.94-2.06-.94 2.06-2.06.94z\"/><path d=\"M17.41 7.96l-1.37-1.37c-.4-.4-.92-.59-1.43-.59-.52 0-1.04.2-1.43.59L10.3 9.45l-7.72 7.72c-.78.78-.78 2.05 0 2.83L4 21.41c.39.39.9.59 1.41.59.51 0 1.02-.2 1.41-.59l7.78-7.78 2.81-2.81c.8-.78.8-2.07 0-2.86zM5.41 20L4 18.59l7.72-7.72 1.47 1.35L5.41 20z\"/>\n",
              "  </svg>\n",
              "      </button>\n",
              "      \n",
              "  <style>\n",
              "    .colab-df-container {\n",
              "      display:flex;\n",
              "      flex-wrap:wrap;\n",
              "      gap: 12px;\n",
              "    }\n",
              "\n",
              "    .colab-df-convert {\n",
              "      background-color: #E8F0FE;\n",
              "      border: none;\n",
              "      border-radius: 50%;\n",
              "      cursor: pointer;\n",
              "      display: none;\n",
              "      fill: #1967D2;\n",
              "      height: 32px;\n",
              "      padding: 0 0 0 0;\n",
              "      width: 32px;\n",
              "    }\n",
              "\n",
              "    .colab-df-convert:hover {\n",
              "      background-color: #E2EBFA;\n",
              "      box-shadow: 0px 1px 2px rgba(60, 64, 67, 0.3), 0px 1px 3px 1px rgba(60, 64, 67, 0.15);\n",
              "      fill: #174EA6;\n",
              "    }\n",
              "\n",
              "    [theme=dark] .colab-df-convert {\n",
              "      background-color: #3B4455;\n",
              "      fill: #D2E3FC;\n",
              "    }\n",
              "\n",
              "    [theme=dark] .colab-df-convert:hover {\n",
              "      background-color: #434B5C;\n",
              "      box-shadow: 0px 1px 3px 1px rgba(0, 0, 0, 0.15);\n",
              "      filter: drop-shadow(0px 1px 2px rgba(0, 0, 0, 0.3));\n",
              "      fill: #FFFFFF;\n",
              "    }\n",
              "  </style>\n",
              "\n",
              "      <script>\n",
              "        const buttonEl =\n",
              "          document.querySelector('#df-be73fcf6-112b-4d9f-ba80-1a959077e396 button.colab-df-convert');\n",
              "        buttonEl.style.display =\n",
              "          google.colab.kernel.accessAllowed ? 'block' : 'none';\n",
              "\n",
              "        async function convertToInteractive(key) {\n",
              "          const element = document.querySelector('#df-be73fcf6-112b-4d9f-ba80-1a959077e396');\n",
              "          const dataTable =\n",
              "            await google.colab.kernel.invokeFunction('convertToInteractive',\n",
              "                                                     [key], {});\n",
              "          if (!dataTable) return;\n",
              "\n",
              "          const docLinkHtml = 'Like what you see? Visit the ' +\n",
              "            '<a target=\"_blank\" href=https://colab.research.google.com/notebooks/data_table.ipynb>data table notebook</a>'\n",
              "            + ' to learn more about interactive tables.';\n",
              "          element.innerHTML = '';\n",
              "          dataTable['output_type'] = 'display_data';\n",
              "          await google.colab.output.renderOutput(dataTable, element);\n",
              "          const docLink = document.createElement('div');\n",
              "          docLink.innerHTML = docLinkHtml;\n",
              "          element.appendChild(docLink);\n",
              "        }\n",
              "      </script>\n",
              "    </div>\n",
              "  </div>\n",
              "  "
            ]
          },
          "metadata": {},
          "execution_count": 12
        }
      ]
    },
    {
      "cell_type": "code",
      "source": [
        "from sklearn.model_selection import train_test_split\n",
        "X_train,X_test,y_train,y_test=train_test_split(X,y,test_size=0.33,random_state=42)"
      ],
      "metadata": {
        "id": "OQnzyDczYlkg"
      },
      "execution_count": null,
      "outputs": []
    },
    {
      "cell_type": "code",
      "source": [
        "from sklearn.preprocessing import StandardScaler\n",
        "sc = StandardScaler()\n",
        "X_train = sc.fit_transform(X_train)\n",
        "X_test = sc.transform(X_test)"
      ],
      "metadata": {
        "id": "gPJj9GDMY5Sv"
      },
      "execution_count": null,
      "outputs": []
    },
    {
      "cell_type": "code",
      "source": [
        "#ANN MODEL\n",
        "\n",
        "import keras\n",
        "from keras.models import Sequential\n",
        "from keras.layers import Dense\n",
        "from keras.layers import Dropout"
      ],
      "metadata": {
        "id": "wjllextBZBaK"
      },
      "execution_count": null,
      "outputs": []
    },
    {
      "cell_type": "code",
      "source": [
        "from tensorflow.keras import initializers"
      ],
      "metadata": {
        "id": "9t_fx6IYb-1S"
      },
      "execution_count": null,
      "outputs": []
    },
    {
      "cell_type": "code",
      "source": [
        "model = Sequential()\n",
        "model.add(Dense(units=11, activation='relu'))\n",
        "model.add(Dense(units=100, activation='relu',kernel_initializer=initializers.HeUniform()))\n",
        "model.add(Dense(units=50, activation='relu',kernel_initializer=initializers.GlorotUniform()))\n",
        "model.add(Dense(units=1,activation='sigmoid'))\n",
        "model.compile(optimizer='AdaDelta',loss='binary_crossentropy',metrics=['accuracy'])\n",
        "\n",
        "\n"
      ],
      "metadata": {
        "id": "8gF9EZH1Zagg"
      },
      "execution_count": null,
      "outputs": []
    },
    {
      "cell_type": "code",
      "source": [
        "model_history=model.fit(X_train,y_train,batch_size=32,epochs=50,validation_split=0.20)"
      ],
      "metadata": {
        "colab": {
          "base_uri": "https://localhost:8080/"
        },
        "id": "sh5vsTvRbJZ2",
        "outputId": "cca59f21-57ce-4d1a-9fe7-9ee60691bc71"
      },
      "execution_count": null,
      "outputs": [
        {
          "output_type": "stream",
          "name": "stdout",
          "text": [
            "Epoch 1/50\n",
            "168/168 [==============================] - 1s 4ms/step - loss: 0.5038 - accuracy: 0.7937 - val_loss: 0.5017 - val_accuracy: 0.8022\n",
            "Epoch 2/50\n",
            "168/168 [==============================] - 1s 3ms/step - loss: 0.5034 - accuracy: 0.7938 - val_loss: 0.5013 - val_accuracy: 0.8022\n",
            "Epoch 3/50\n",
            "168/168 [==============================] - 1s 4ms/step - loss: 0.5030 - accuracy: 0.7940 - val_loss: 0.5009 - val_accuracy: 0.8022\n",
            "Epoch 4/50\n",
            "168/168 [==============================] - 1s 4ms/step - loss: 0.5026 - accuracy: 0.7940 - val_loss: 0.5005 - val_accuracy: 0.8022\n",
            "Epoch 5/50\n",
            "168/168 [==============================] - 1s 4ms/step - loss: 0.5022 - accuracy: 0.7940 - val_loss: 0.5002 - val_accuracy: 0.8022\n",
            "Epoch 6/50\n",
            "168/168 [==============================] - 1s 3ms/step - loss: 0.5019 - accuracy: 0.7940 - val_loss: 0.4998 - val_accuracy: 0.8015\n",
            "Epoch 7/50\n",
            "168/168 [==============================] - 1s 4ms/step - loss: 0.5015 - accuracy: 0.7938 - val_loss: 0.4994 - val_accuracy: 0.8015\n",
            "Epoch 8/50\n",
            "168/168 [==============================] - 1s 3ms/step - loss: 0.5011 - accuracy: 0.7940 - val_loss: 0.4990 - val_accuracy: 0.8015\n",
            "Epoch 9/50\n",
            "168/168 [==============================] - 1s 3ms/step - loss: 0.5007 - accuracy: 0.7942 - val_loss: 0.4987 - val_accuracy: 0.8015\n",
            "Epoch 10/50\n",
            "168/168 [==============================] - 1s 4ms/step - loss: 0.5003 - accuracy: 0.7944 - val_loss: 0.4983 - val_accuracy: 0.8015\n",
            "Epoch 11/50\n",
            "168/168 [==============================] - 1s 3ms/step - loss: 0.5000 - accuracy: 0.7942 - val_loss: 0.4979 - val_accuracy: 0.8015\n",
            "Epoch 12/50\n",
            "168/168 [==============================] - 1s 3ms/step - loss: 0.4996 - accuracy: 0.7942 - val_loss: 0.4976 - val_accuracy: 0.8015\n",
            "Epoch 13/50\n",
            "168/168 [==============================] - 1s 4ms/step - loss: 0.4992 - accuracy: 0.7942 - val_loss: 0.4972 - val_accuracy: 0.8015\n",
            "Epoch 14/50\n",
            "168/168 [==============================] - 1s 4ms/step - loss: 0.4988 - accuracy: 0.7946 - val_loss: 0.4969 - val_accuracy: 0.8015\n",
            "Epoch 15/50\n",
            "168/168 [==============================] - 1s 3ms/step - loss: 0.4985 - accuracy: 0.7948 - val_loss: 0.4965 - val_accuracy: 0.8015\n",
            "Epoch 16/50\n",
            "168/168 [==============================] - 1s 4ms/step - loss: 0.4981 - accuracy: 0.7950 - val_loss: 0.4962 - val_accuracy: 0.8015\n",
            "Epoch 17/50\n",
            "168/168 [==============================] - 1s 3ms/step - loss: 0.4978 - accuracy: 0.7951 - val_loss: 0.4958 - val_accuracy: 0.8015\n",
            "Epoch 18/50\n",
            "168/168 [==============================] - 1s 3ms/step - loss: 0.4974 - accuracy: 0.7953 - val_loss: 0.4955 - val_accuracy: 0.8015\n",
            "Epoch 19/50\n",
            "168/168 [==============================] - 1s 3ms/step - loss: 0.4971 - accuracy: 0.7953 - val_loss: 0.4951 - val_accuracy: 0.8015\n",
            "Epoch 20/50\n",
            "168/168 [==============================] - 1s 4ms/step - loss: 0.4967 - accuracy: 0.7950 - val_loss: 0.4948 - val_accuracy: 0.8007\n",
            "Epoch 21/50\n",
            "168/168 [==============================] - 1s 3ms/step - loss: 0.4964 - accuracy: 0.7951 - val_loss: 0.4945 - val_accuracy: 0.8007\n",
            "Epoch 22/50\n",
            "168/168 [==============================] - 1s 3ms/step - loss: 0.4960 - accuracy: 0.7953 - val_loss: 0.4941 - val_accuracy: 0.8007\n",
            "Epoch 23/50\n",
            "168/168 [==============================] - 1s 3ms/step - loss: 0.4957 - accuracy: 0.7957 - val_loss: 0.4938 - val_accuracy: 0.8007\n",
            "Epoch 24/50\n",
            "168/168 [==============================] - 1s 3ms/step - loss: 0.4954 - accuracy: 0.7959 - val_loss: 0.4935 - val_accuracy: 0.8007\n",
            "Epoch 25/50\n",
            "168/168 [==============================] - 1s 4ms/step - loss: 0.4950 - accuracy: 0.7959 - val_loss: 0.4932 - val_accuracy: 0.8007\n",
            "Epoch 26/50\n",
            "168/168 [==============================] - 1s 3ms/step - loss: 0.4947 - accuracy: 0.7961 - val_loss: 0.4929 - val_accuracy: 0.8000\n",
            "Epoch 27/50\n",
            "168/168 [==============================] - 1s 3ms/step - loss: 0.4944 - accuracy: 0.7961 - val_loss: 0.4926 - val_accuracy: 0.8007\n",
            "Epoch 28/50\n",
            "168/168 [==============================] - 1s 4ms/step - loss: 0.4941 - accuracy: 0.7963 - val_loss: 0.4922 - val_accuracy: 0.8007\n",
            "Epoch 29/50\n",
            "168/168 [==============================] - 1s 3ms/step - loss: 0.4938 - accuracy: 0.7963 - val_loss: 0.4919 - val_accuracy: 0.8007\n",
            "Epoch 30/50\n",
            "168/168 [==============================] - 1s 3ms/step - loss: 0.4934 - accuracy: 0.7963 - val_loss: 0.4916 - val_accuracy: 0.8007\n",
            "Epoch 31/50\n",
            "168/168 [==============================] - 1s 4ms/step - loss: 0.4931 - accuracy: 0.7965 - val_loss: 0.4913 - val_accuracy: 0.8007\n",
            "Epoch 32/50\n",
            "168/168 [==============================] - 1s 4ms/step - loss: 0.4928 - accuracy: 0.7966 - val_loss: 0.4910 - val_accuracy: 0.8007\n",
            "Epoch 33/50\n",
            "168/168 [==============================] - 1s 4ms/step - loss: 0.4925 - accuracy: 0.7972 - val_loss: 0.4907 - val_accuracy: 0.8007\n",
            "Epoch 34/50\n",
            "168/168 [==============================] - 1s 3ms/step - loss: 0.4922 - accuracy: 0.7972 - val_loss: 0.4904 - val_accuracy: 0.8007\n",
            "Epoch 35/50\n",
            "168/168 [==============================] - 1s 3ms/step - loss: 0.4919 - accuracy: 0.7972 - val_loss: 0.4901 - val_accuracy: 0.8000\n",
            "Epoch 36/50\n",
            "168/168 [==============================] - 1s 4ms/step - loss: 0.4916 - accuracy: 0.7974 - val_loss: 0.4898 - val_accuracy: 0.8000\n",
            "Epoch 37/50\n",
            "168/168 [==============================] - 1s 4ms/step - loss: 0.4913 - accuracy: 0.7974 - val_loss: 0.4896 - val_accuracy: 0.8000\n",
            "Epoch 38/50\n",
            "168/168 [==============================] - 1s 3ms/step - loss: 0.4910 - accuracy: 0.7978 - val_loss: 0.4893 - val_accuracy: 0.8007\n",
            "Epoch 39/50\n",
            "168/168 [==============================] - 1s 4ms/step - loss: 0.4907 - accuracy: 0.7978 - val_loss: 0.4890 - val_accuracy: 0.8007\n",
            "Epoch 40/50\n",
            "168/168 [==============================] - 1s 3ms/step - loss: 0.4904 - accuracy: 0.7978 - val_loss: 0.4887 - val_accuracy: 0.8000\n",
            "Epoch 41/50\n",
            "168/168 [==============================] - 1s 3ms/step - loss: 0.4901 - accuracy: 0.7978 - val_loss: 0.4884 - val_accuracy: 0.8000\n",
            "Epoch 42/50\n",
            "168/168 [==============================] - 1s 3ms/step - loss: 0.4899 - accuracy: 0.7978 - val_loss: 0.4882 - val_accuracy: 0.8000\n",
            "Epoch 43/50\n",
            "168/168 [==============================] - 1s 4ms/step - loss: 0.4896 - accuracy: 0.7978 - val_loss: 0.4879 - val_accuracy: 0.8000\n",
            "Epoch 44/50\n",
            "168/168 [==============================] - 1s 4ms/step - loss: 0.4893 - accuracy: 0.7978 - val_loss: 0.4876 - val_accuracy: 0.7993\n",
            "Epoch 45/50\n",
            "168/168 [==============================] - 1s 3ms/step - loss: 0.4890 - accuracy: 0.7981 - val_loss: 0.4873 - val_accuracy: 0.8000\n",
            "Epoch 46/50\n",
            "168/168 [==============================] - 1s 4ms/step - loss: 0.4887 - accuracy: 0.7987 - val_loss: 0.4871 - val_accuracy: 0.8000\n",
            "Epoch 47/50\n",
            "168/168 [==============================] - 1s 4ms/step - loss: 0.4885 - accuracy: 0.7989 - val_loss: 0.4868 - val_accuracy: 0.8000\n",
            "Epoch 48/50\n",
            "168/168 [==============================] - 1s 4ms/step - loss: 0.4882 - accuracy: 0.7989 - val_loss: 0.4865 - val_accuracy: 0.8000\n",
            "Epoch 49/50\n",
            "168/168 [==============================] - 1s 4ms/step - loss: 0.4879 - accuracy: 0.7994 - val_loss: 0.4863 - val_accuracy: 0.8007\n",
            "Epoch 50/50\n",
            "168/168 [==============================] - 1s 3ms/step - loss: 0.4877 - accuracy: 0.7994 - val_loss: 0.4860 - val_accuracy: 0.8015\n"
          ]
        }
      ]
    },
    {
      "cell_type": "code",
      "source": [
        "print(model_history.history.keys())\n",
        "# summarize history for accuracy\n",
        "plt.plot(model_history.history['accuracy'])\n",
        "plt.plot(model_history.history['val_accuracy'])\n",
        "plt.title('model accuracy')\n",
        "plt.ylabel('accuracy')\n",
        "plt.xlabel('epoch')\n",
        "plt.legend(['train', 'test'], loc='upper left')\n",
        "plt.show()"
      ],
      "metadata": {
        "colab": {
          "base_uri": "https://localhost:8080/",
          "height": 313
        },
        "id": "p7aHE4emdpEQ",
        "outputId": "512cb272-1382-4f4e-aea2-6c94d5588172"
      },
      "execution_count": null,
      "outputs": [
        {
          "output_type": "stream",
          "name": "stdout",
          "text": [
            "dict_keys(['loss', 'accuracy', 'val_loss', 'val_accuracy'])\n"
          ]
        },
        {
          "output_type": "display_data",
          "data": {
            "text/plain": [
              "<Figure size 432x288 with 1 Axes>"
            ],
            "image/png": "[encoded data removed]"
          },
          "metadata": {
            "needs_background": "light"
          }
        }
      ]
    },
    {
      "cell_type": "code",
      "source": [
        "model_history.history.keys()"
      ],
      "metadata": {
        "colab": {
          "base_uri": "https://localhost:8080/"
        },
        "id": "x5WuI8zLfNxj",
        "outputId": "a1e4bcb7-4395-46b5-fca6-4e751dc01772"
      },
      "execution_count": null,
      "outputs": [
        {
          "output_type": "execute_result",
          "data": {
            "text/plain": [
              "dict_keys(['loss', 'accuracy', 'val_loss', 'val_accuracy'])"
            ]
          },
          "metadata": {},
          "execution_count": 36
        }
      ]
    },
    {
      "cell_type": "code",
      "source": [
        "# summarize history for loss\n",
        "plt.plot(model_history.history['loss'])\n",
        "plt.plot(model_history.history['val_loss'])\n",
        "plt.title('model loss')\n",
        "plt.ylabel('loss')\n",
        "plt.xlabel('epoch')\n",
        "plt.legend(['train', 'test'], loc='upper left')\n",
        "plt.show()"
      ],
      "metadata": {
        "colab": {
          "base_uri": "https://localhost:8080/",
          "height": 295
        },
        "id": "2BCSRK5dfZPO",
        "outputId": "940bc874-e533-49a8-eca2-e8deccb740fc"
      },
      "execution_count": null,
      "outputs": [
        {
          "output_type": "display_data",
          "data": {
            "text/plain": [
              "<Figure size 432x288 with 1 Axes>"
            ],
            "image/png": "[encoded data removed]"
          },
          "metadata": {
            "needs_background": "light"
          }
        }
      ]
    },
    {
      "cell_type": "code",
      "source": [
        "y_pred = model.predict(X_test)\n",
        "y_pred = (y_pred > 0.5)"
      ],
      "metadata": {
        "id": "fGPskDoUfqX0"
      },
      "execution_count": null,
      "outputs": []
    },
    {
      "cell_type": "code",
      "source": [
        "from sklearn.metrics import confusion_matrix\n",
        "cm = confusion_matrix(y_test, y_pred)\n",
        "\n",
        "# Calculate the Accuracy\n",
        "from sklearn.metrics import accuracy_score\n",
        "score=accuracy_score(y_pred,y_test)\n"
      ],
      "metadata": {
        "id": "0oTH2leqfzeY"
      },
      "execution_count": null,
      "outputs": []
    },
    {
      "cell_type": "code",
      "source": [
        "cm"
      ],
      "metadata": {
        "colab": {
          "base_uri": "https://localhost:8080/"
        },
        "id": "Yj6iz_6sf10W",
        "outputId": "2a360938-f8cc-4cd5-cdfe-8dc96e16a6ea"
      },
      "execution_count": null,
      "outputs": [
        {
          "output_type": "execute_result",
          "data": {
            "text/plain": [
              "array([[2645,   12],\n",
              "       [ 615,   28]])"
            ]
          },
          "metadata": {},
          "execution_count": 41
        }
      ]
    },
    {
      "cell_type": "code",
      "source": [
        "score"
      ],
      "metadata": {
        "colab": {
          "base_uri": "https://localhost:8080/"
        },
        "id": "NnYHBRuTf3QL",
        "outputId": "7338d08a-194e-47bf-c179-d7089bb494ec"
      },
      "execution_count": null,
      "outputs": [
        {
          "output_type": "execute_result",
          "data": {
            "text/plain": [
              "0.81"
            ]
          },
          "metadata": {},
          "execution_count": 42
        }
      ]
    },
    {
      "cell_type": "code",
      "source": [
        "model.save('model.h5')"
      ],
      "metadata": {
        "id": "3pKx_wClf4uN"
      },
      "execution_count": null,
      "outputs": []
    },
    {
      "cell_type": "code",
      "source": [
        "keras.models.load_model('model.h5')"
      ],
      "metadata": {
        "colab": {
          "base_uri": "https://localhost:8080/"
        },
        "id": "YldfwJNfgIV3",
        "outputId": "a3aab87b-4c29-436f-c82c-809302910481"
      },
      "execution_count": null,
      "outputs": [
        {
          "output_type": "execute_result",
          "data": {
            "text/plain": [
              "<keras.engine.sequential.Sequential at 0x7fcb735d5950>"
            ]
          },
          "metadata": {},
          "execution_count": 48
        }
      ]
    },
    {
      "cell_type": "code",
      "source": [
        "a=keras.models.load_model('model.h5')"
      ],
      "metadata": {
        "id": "aT1_LXD8gUlh"
      },
      "execution_count": null,
      "outputs": []
    },
    {
      "cell_type": "code",
      "source": [
        "for layer in model.layers: \n",
        "  print(layer.get_config(), layer.get_weights())"
      ],
      "metadata": {
        "colab": {
          "base_uri": "https://localhost:8080/"
        },
        "id": "R9ZMZ3NugiNX",
        "outputId": "aa9c8a57-b12b-4d8a-d05a-f153e3acc5e1"
      },
      "execution_count": null,
      "outputs": [
        {
          "output_type": "stream",
          "name": "stdout",
          "text": [
            "{'name': 'dense_12', 'trainable': True, 'dtype': 'float32', 'units': 11, 'activation': 'relu', 'use_bias': True, 'kernel_initializer': {'class_name': 'GlorotUniform', 'config': {'seed': None}}, 'bias_initializer': {'class_name': 'Zeros', 'config': {}}, 'kernel_regularizer': None, 'bias_regularizer': None, 'activity_regularizer': None, 'kernel_constraint': None, 'bias_constraint': None} [array([[-3.3056229e-01, -3.8564950e-01, -3.4575048e-01,  2.8903559e-01,\n",
            "         2.7845240e-01, -1.6207150e-01,  2.4345723e-01, -1.5685375e-01,\n",
            "         4.9873152e-01,  4.9627605e-01,  2.6102301e-01],\n",
            "       [ 8.5014306e-02,  2.7324632e-01, -4.9523541e-01,  3.1692615e-01,\n",
            "        -3.1071797e-01,  6.2807165e-02, -2.3564930e-01,  4.9495852e-01,\n",
            "        -4.5834966e-02,  1.7472613e-01, -4.8356101e-01],\n",
            "       [ 3.7825847e-01, -4.7516208e-02, -4.5720807e-01, -3.4699982e-01,\n",
            "        -9.2390202e-02,  3.0992061e-01, -2.1802641e-01, -2.8935504e-01,\n",
            "         3.2083598e-01, -3.7002951e-01, -4.8702350e-01],\n",
            "       [ 2.2931984e-01, -3.6421258e-02, -4.6145180e-04, -2.4616671e-01,\n",
            "        -3.5440040e-01,  4.5189908e-01,  2.9379615e-01, -2.9616398e-01,\n",
            "        -3.3906290e-01, -4.2268044e-01,  4.2768449e-01],\n",
            "       [ 4.9182469e-01, -3.2387701e-01, -2.0283440e-01,  2.5597671e-01,\n",
            "        -4.5895774e-02, -3.0313256e-01,  4.3212342e-01, -4.8682827e-01,\n",
            "         2.9896182e-01,  9.5769586e-03, -2.2979194e-01],\n",
            "       [-2.7259329e-01,  4.9711183e-01, -3.9612883e-01, -6.4404197e-02,\n",
            "        -2.0165274e-02, -5.1569754e-01, -2.1000892e-01, -4.2823040e-01,\n",
            "         2.0503414e-01,  1.5543637e-01, -2.0597449e-01],\n",
            "       [ 4.2418721e-01,  5.1981866e-01,  2.6581812e-01, -1.8570191e-01,\n",
            "         2.8732422e-01, -2.9967928e-01,  3.6120078e-01, -6.1689716e-02,\n",
            "        -5.0844204e-01, -4.0137571e-01, -2.1975439e-02],\n",
            "       [ 3.9011592e-01,  5.6064505e-02, -4.0281206e-01, -9.8632343e-02,\n",
            "         4.1627604e-01,  1.5529987e-01,  9.1580763e-02,  1.6449831e-01,\n",
            "        -3.8882747e-01, -4.0871981e-01,  3.3004200e-01],\n",
            "       [-2.6319176e-02, -7.5382210e-02, -2.4282007e-01,  1.4868698e-02,\n",
            "        -1.4376226e-01, -2.5393644e-01,  4.8215735e-01,  4.6782371e-01,\n",
            "        -1.6941455e-01,  3.6862299e-01,  9.3855217e-02],\n",
            "       [-5.2274060e-01, -3.2227436e-01,  2.0139782e-01,  4.1692474e-01,\n",
            "        -2.4692075e-01,  1.3394314e-01, -8.8846259e-02, -4.9508843e-01,\n",
            "        -5.0301737e-01, -4.2412186e-01, -1.7048794e-01],\n",
            "       [ 2.5914240e-01,  4.6294519e-01,  3.0044746e-01, -1.0820356e-01,\n",
            "        -4.3830645e-01, -1.3785015e-01, -2.3150110e-01, -1.9200355e-01,\n",
            "        -2.5457415e-01,  4.5109165e-01, -2.0752952e-01]], dtype=float32), array([ 0.00550336,  0.01695724,  0.02204239,  0.0043096 ,  0.01323718,\n",
            "       -0.00283169, -0.00220573,  0.00121418,  0.00865045,  0.00017315,\n",
            "       -0.01755722], dtype=float32)]\n",
            "{'name': 'dense_13', 'trainable': True, 'dtype': 'float32', 'units': 100, 'activation': 'relu', 'use_bias': True, 'kernel_initializer': {'class_name': 'HeUniform', 'config': {'seed': None}}, 'bias_initializer': {'class_name': 'Zeros', 'config': {}}, 'kernel_regularizer': None, 'bias_regularizer': None, 'activity_regularizer': None, 'kernel_constraint': None, 'bias_constraint': None} [array([[-0.36489594, -0.10722888, -0.51731193, ...,  0.3392508 ,\n",
            "        -0.17017308, -0.20966336],\n",
            "       [-0.40415847,  0.2007482 ,  0.07235407, ..., -0.26308644,\n",
            "        -0.4366092 ,  0.5614336 ],\n",
            "       [ 0.3541315 ,  0.26498967,  0.16881837, ...,  0.6282874 ,\n",
            "        -0.13620035, -0.40150848],\n",
            "       ...,\n",
            "       [ 0.5558012 ,  0.24084516,  0.42376745, ..., -0.3626428 ,\n",
            "        -0.45089343, -0.40402123],\n",
            "       [-0.03505119,  0.42915073, -0.17761828, ..., -0.22584642,\n",
            "         0.01541593,  0.6535632 ],\n",
            "       [-0.00618436,  0.5291439 , -0.1139085 , ..., -0.01517657,\n",
            "         0.10979364, -0.6101493 ]], dtype=float32), array([-2.78618447e-02, -1.38029400e-02,  1.61190573e-02,  6.69971807e-03,\n",
            "        1.42117618e-02,  1.97979920e-02,  9.37840529e-03,  8.75124242e-03,\n",
            "        5.49065042e-03,  3.13467876e-06,  7.33868359e-03,  1.77993532e-02,\n",
            "       -1.70191098e-02,  2.54586851e-03, -3.84664792e-03,  5.90304891e-03,\n",
            "        1.11473855e-02,  1.39973043e-02,  1.96511336e-02,  1.24740992e-02,\n",
            "        8.93161073e-03,  1.91425122e-02,  4.84150881e-03,  1.21262269e-02,\n",
            "        2.05841772e-02, -1.22042268e-03,  2.62045744e-03, -1.88351944e-02,\n",
            "       -9.83270258e-03,  1.15480786e-02,  2.70105004e-02,  2.06094254e-02,\n",
            "        2.09496971e-02,  4.07188991e-03,  1.22174248e-02,  6.75230799e-03,\n",
            "       -6.27894094e-03, -1.81685239e-02, -5.56724845e-03, -1.95410736e-02,\n",
            "        1.83821395e-02,  1.75711670e-04, -5.75607875e-03,  1.40706040e-02,\n",
            "        1.37065966e-02,  6.65941695e-03, -1.55196467e-04,  7.62173207e-03,\n",
            "       -2.78218649e-03,  1.47377690e-02,  1.05260517e-02,  1.63678303e-02,\n",
            "       -1.82200782e-02,  1.02794394e-02, -3.62609210e-03,  8.13809875e-03,\n",
            "        2.08060583e-03, -2.80554686e-03,  1.11777801e-02,  2.09088717e-03,\n",
            "       -3.80566716e-03,  8.93174671e-03, -5.50326565e-03,  4.38170461e-03,\n",
            "        1.60893649e-02,  1.57066137e-02, -1.35767413e-03, -1.53376535e-02,\n",
            "        1.23566780e-02, -8.44665337e-03, -2.58351653e-03, -1.00243129e-02,\n",
            "       -7.50088319e-03, -7.79697299e-03, -5.58017846e-03, -2.45491741e-03,\n",
            "        2.03315187e-02, -8.34945031e-03,  2.13603321e-02,  6.83122501e-03,\n",
            "        6.25895010e-03, -7.09569873e-03,  1.10580735e-02, -1.37846330e-02,\n",
            "       -1.10912593e-02, -5.55292377e-03,  1.12068299e-02,  1.56589169e-02,\n",
            "        3.59862437e-03, -9.58264805e-03, -5.71610220e-03, -1.11605125e-02,\n",
            "        8.94823950e-03, -7.52112595e-03,  4.71791625e-03, -4.78533702e-03,\n",
            "        1.97672304e-02,  1.48238009e-02, -1.53342523e-02, -3.11861839e-03],\n",
            "      dtype=float32)]\n",
            "{'name': 'dense_14', 'trainable': True, 'dtype': 'float32', 'units': 50, 'activation': 'relu', 'use_bias': True, 'kernel_initializer': {'class_name': 'GlorotUniform', 'config': {'seed': None}}, 'bias_initializer': {'class_name': 'Zeros', 'config': {}}, 'kernel_regularizer': None, 'bias_regularizer': None, 'activity_regularizer': None, 'kernel_constraint': None, 'bias_constraint': None} [array([[-0.12371454, -0.090992  ,  0.08134204, ...,  0.12151045,\n",
            "        -0.10257225, -0.17441675],\n",
            "       [-0.01964051, -0.06985454,  0.07961426, ...,  0.10558221,\n",
            "        -0.1728486 , -0.12507007],\n",
            "       [ 0.13764516, -0.13213113,  0.12790066, ...,  0.0900137 ,\n",
            "         0.0101201 ,  0.12309849],\n",
            "       ...,\n",
            "       [-0.12702286,  0.06087321, -0.06235135, ..., -0.16361018,\n",
            "         0.1339829 ,  0.16736163],\n",
            "       [ 0.1198862 ,  0.12315971, -0.19832756, ...,  0.11150119,\n",
            "        -0.01206939, -0.10337723],\n",
            "       [ 0.19146173,  0.07098236,  0.10656913, ...,  0.13514559,\n",
            "         0.11797881,  0.0821959 ]], dtype=float32), array([-2.4278495e-03,  2.1766167e-02, -7.6363599e-03,  1.4637680e-02,\n",
            "       -4.3453721e-05, -2.0283092e-02, -6.4532366e-03, -1.6318047e-05,\n",
            "        0.0000000e+00, -1.1254371e-02, -9.5284122e-05,  2.4807282e-02,\n",
            "        5.6888689e-03,  1.2159286e-02, -2.2923768e-02, -1.3311583e-02,\n",
            "       -5.7327868e-03, -1.5220850e-02,  1.6650433e-02, -1.9740164e-02,\n",
            "       -3.8198226e-03,  9.0745501e-03,  2.0940298e-02, -6.3334894e-03,\n",
            "       -1.3761267e-03, -2.0322615e-02,  1.2047305e-02, -3.0729952e-03,\n",
            "        3.2313894e-03, -1.9751517e-02, -1.2559277e-02, -2.3819754e-02,\n",
            "        2.1263434e-02,  9.9442601e-03,  2.1078980e-02,  2.2330086e-03,\n",
            "        1.6877130e-02, -2.1446107e-02,  2.1746058e-04,  2.0090640e-02,\n",
            "        2.3304611e-02, -8.2326243e-03,  2.4111457e-03,  1.9967601e-02,\n",
            "        1.7955415e-02,  1.7714377e-02, -1.5932632e-05, -1.6541541e-02,\n",
            "        1.6697841e-02, -7.9491157e-03], dtype=float32)]\n",
            "{'name': 'dense_15', 'trainable': True, 'dtype': 'float32', 'units': 1, 'activation': 'sigmoid', 'use_bias': True, 'kernel_initializer': {'class_name': 'GlorotUniform', 'config': {'seed': None}}, 'bias_initializer': {'class_name': 'Zeros', 'config': {}}, 'kernel_regularizer': None, 'bias_regularizer': None, 'activity_regularizer': None, 'kernel_constraint': None, 'bias_constraint': None} [array([[ 0.04790441],\n",
            "       [-0.13193169],\n",
            "       [ 0.08279875],\n",
            "       [-0.12084857],\n",
            "       [-0.00267764],\n",
            "       [ 0.20196171],\n",
            "       [ 0.20902957],\n",
            "       [ 0.08366422],\n",
            "       [-0.09445935],\n",
            "       [ 0.11612673],\n",
            "       [ 0.27653873],\n",
            "       [-0.24583182],\n",
            "       [-0.22471757],\n",
            "       [-0.33838627],\n",
            "       [ 0.08276405],\n",
            "       [ 0.32589602],\n",
            "       [ 0.29457113],\n",
            "       [ 0.17011403],\n",
            "       [-0.02994872],\n",
            "       [ 0.12754555],\n",
            "       [ 0.18061465],\n",
            "       [ 0.10718066],\n",
            "       [-0.22107387],\n",
            "       [ 0.3035517 ],\n",
            "       [ 0.16787712],\n",
            "       [ 0.10904776],\n",
            "       [-0.0218528 ],\n",
            "       [ 0.11210491],\n",
            "       [-0.04537481],\n",
            "       [ 0.02352616],\n",
            "       [ 0.1305663 ],\n",
            "       [ 0.24167314],\n",
            "       [-0.19456378],\n",
            "       [-0.25089857],\n",
            "       [-0.08746579],\n",
            "       [-0.00320046],\n",
            "       [-0.098732  ],\n",
            "       [ 0.17765853],\n",
            "       [-0.0064633 ],\n",
            "       [-0.2639667 ],\n",
            "       [-0.22031435],\n",
            "       [ 0.2676141 ],\n",
            "       [-0.18202643],\n",
            "       [-0.17932592],\n",
            "       [-0.2224648 ],\n",
            "       [-0.2528462 ],\n",
            "       [-0.01073115],\n",
            "       [ 0.19367418],\n",
            "       [-0.0623842 ],\n",
            "       [ 0.06352881]], dtype=float32), array([-0.02124867], dtype=float32)]\n"
          ]
        }
      ]
    },
    {
      "cell_type": "code",
      "source": [
        "!pip install keras-tuner"
      ],
      "metadata": {
        "colab": {
          "base_uri": "https://localhost:8080/"
        },
        "id": "oOktskrClc-Z",
        "outputId": "6b3cb5d1-07e9-4aa1-e2d4-2f5907a30d5d"
      },
      "execution_count": null,
      "outputs": [
        {
          "output_type": "stream",
          "name": "stdout",
          "text": [
            "Collecting keras-tuner\n",
            "  Downloading keras_tuner-1.1.2-py3-none-any.whl (133 kB)\n",
            "\u001b[?25l\r\u001b[K     |██▌                             | 10 kB 22.8 MB/s eta 0:00:01\r\u001b[K     |█████                           | 20 kB 26.5 MB/s eta 0:00:01\r\u001b[K     |███████▍                        | 30 kB 29.9 MB/s eta 0:00:01\r\u001b[K     |█████████▉                      | 40 kB 32.3 MB/s eta 0:00:01\r\u001b[K     |████████████▎                   | 51 kB 31.7 MB/s eta 0:00:01\r\u001b[K     |██████████████▊                 | 61 kB 33.9 MB/s eta 0:00:01\r\u001b[K     |█████████████████▏              | 71 kB 35.0 MB/s eta 0:00:01\r\u001b[K     |███████████████████▋            | 81 kB 34.3 MB/s eta 0:00:01\r\u001b[K     |██████████████████████          | 92 kB 35.0 MB/s eta 0:00:01\r\u001b[K     |████████████████████████▌       | 102 kB 24.7 MB/s eta 0:00:01\r\u001b[K     |███████████████████████████     | 112 kB 24.7 MB/s eta 0:00:01\r\u001b[K     |█████████████████████████████▍  | 122 kB 24.7 MB/s eta 0:00:01\r\u001b[K     |███████████████████████████████▉| 133 kB 24.7 MB/s eta 0:00:01\r\u001b[K     |████████████████████████████████| 133 kB 24.7 MB/s \n",
            "\u001b[?25hRequirement already satisfied: tensorboard in /usr/local/lib/python3.7/dist-packages (from keras-tuner) (2.8.0)\n",
            "Requirement already satisfied: numpy in /usr/local/lib/python3.7/dist-packages (from keras-tuner) (1.21.6)\n",
            "Requirement already satisfied: packaging in /usr/local/lib/python3.7/dist-packages (from keras-tuner) (21.3)\n",
            "Collecting kt-legacy\n",
            "  Downloading kt_legacy-1.0.4-py3-none-any.whl (9.6 kB)\n",
            "Requirement already satisfied: requests in /usr/local/lib/python3.7/dist-packages (from keras-tuner) (2.23.0)\n",
            "Requirement already satisfied: ipython in /usr/local/lib/python3.7/dist-packages (from keras-tuner) (5.5.0)\n",
            "Requirement already satisfied: simplegeneric>0.8 in /usr/local/lib/python3.7/dist-packages (from ipython->keras-tuner) (0.8.1)\n",
            "Requirement already satisfied: pickleshare in /usr/local/lib/python3.7/dist-packages (from ipython->keras-tuner) (0.7.5)\n",
            "Requirement already satisfied: pexpect in /usr/local/lib/python3.7/dist-packages (from ipython->keras-tuner) (4.8.0)\n",
            "Requirement already satisfied: traitlets>=4.2 in /usr/local/lib/python3.7/dist-packages (from ipython->keras-tuner) (5.1.1)\n",
            "Requirement already satisfied: setuptools>=18.5 in /usr/local/lib/python3.7/dist-packages (from ipython->keras-tuner) (57.4.0)\n",
            "Requirement already satisfied: pygments in /usr/local/lib/python3.7/dist-packages (from ipython->keras-tuner) (2.6.1)\n",
            "Requirement already satisfied: prompt-toolkit<2.0.0,>=1.0.4 in /usr/local/lib/python3.7/dist-packages (from ipython->keras-tuner) (1.0.18)\n",
            "Requirement already satisfied: decorator in /usr/local/lib/python3.7/dist-packages (from ipython->keras-tuner) (4.4.2)\n",
            "Requirement already satisfied: six>=1.9.0 in /usr/local/lib/python3.7/dist-packages (from prompt-toolkit<2.0.0,>=1.0.4->ipython->keras-tuner) (1.15.0)\n",
            "Requirement already satisfied: wcwidth in /usr/local/lib/python3.7/dist-packages (from prompt-toolkit<2.0.0,>=1.0.4->ipython->keras-tuner) (0.2.5)\n",
            "Requirement already satisfied: pyparsing!=3.0.5,>=2.0.2 in /usr/local/lib/python3.7/dist-packages (from packaging->keras-tuner) (3.0.8)\n",
            "Requirement already satisfied: ptyprocess>=0.5 in /usr/local/lib/python3.7/dist-packages (from pexpect->ipython->keras-tuner) (0.7.0)\n",
            "Requirement already satisfied: chardet<4,>=3.0.2 in /usr/local/lib/python3.7/dist-packages (from requests->keras-tuner) (3.0.4)\n",
            "Requirement already satisfied: certifi>=2017.4.17 in /usr/local/lib/python3.7/dist-packages (from requests->keras-tuner) (2021.10.8)\n",
            "Requirement already satisfied: idna<3,>=2.5 in /usr/local/lib/python3.7/dist-packages (from requests->keras-tuner) (2.10)\n",
            "Requirement already satisfied: urllib3!=1.25.0,!=1.25.1,<1.26,>=1.21.1 in /usr/local/lib/python3.7/dist-packages (from requests->keras-tuner) (1.24.3)\n",
            "Requirement already satisfied: tensorboard-data-server<0.7.0,>=0.6.0 in /usr/local/lib/python3.7/dist-packages (from tensorboard->keras-tuner) (0.6.1)\n",
            "Requirement already satisfied: wheel>=0.26 in /usr/local/lib/python3.7/dist-packages (from tensorboard->keras-tuner) (0.37.1)\n",
            "Requirement already satisfied: werkzeug>=0.11.15 in /usr/local/lib/python3.7/dist-packages (from tensorboard->keras-tuner) (1.0.1)\n",
            "Requirement already satisfied: protobuf>=3.6.0 in /usr/local/lib/python3.7/dist-packages (from tensorboard->keras-tuner) (3.17.3)\n",
            "Requirement already satisfied: tensorboard-plugin-wit>=1.6.0 in /usr/local/lib/python3.7/dist-packages (from tensorboard->keras-tuner) (1.8.1)\n",
            "Requirement already satisfied: google-auth<3,>=1.6.3 in /usr/local/lib/python3.7/dist-packages (from tensorboard->keras-tuner) (1.35.0)\n",
            "Requirement already satisfied: absl-py>=0.4 in /usr/local/lib/python3.7/dist-packages (from tensorboard->keras-tuner) (1.0.0)\n",
            "Requirement already satisfied: grpcio>=1.24.3 in /usr/local/lib/python3.7/dist-packages (from tensorboard->keras-tuner) (1.44.0)\n",
            "Requirement already satisfied: markdown>=2.6.8 in /usr/local/lib/python3.7/dist-packages (from tensorboard->keras-tuner) (3.3.6)\n",
            "Requirement already satisfied: google-auth-oauthlib<0.5,>=0.4.1 in /usr/local/lib/python3.7/dist-packages (from tensorboard->keras-tuner) (0.4.6)\n",
            "Requirement already satisfied: rsa<5,>=3.1.4 in /usr/local/lib/python3.7/dist-packages (from google-auth<3,>=1.6.3->tensorboard->keras-tuner) (4.8)\n",
            "Requirement already satisfied: pyasn1-modules>=0.2.1 in /usr/local/lib/python3.7/dist-packages (from google-auth<3,>=1.6.3->tensorboard->keras-tuner) (0.2.8)\n",
            "Requirement already satisfied: cachetools<5.0,>=2.0.0 in /usr/local/lib/python3.7/dist-packages (from google-auth<3,>=1.6.3->tensorboard->keras-tuner) (4.2.4)\n",
            "Requirement already satisfied: requests-oauthlib>=0.7.0 in /usr/local/lib/python3.7/dist-packages (from google-auth-oauthlib<0.5,>=0.4.1->tensorboard->keras-tuner) (1.3.1)\n",
            "Requirement already satisfied: importlib-metadata>=4.4 in /usr/local/lib/python3.7/dist-packages (from markdown>=2.6.8->tensorboard->keras-tuner) (4.11.3)\n",
            "Requirement already satisfied: typing-extensions>=3.6.4 in /usr/local/lib/python3.7/dist-packages (from importlib-metadata>=4.4->markdown>=2.6.8->tensorboard->keras-tuner) (4.1.1)\n",
            "Requirement already satisfied: zipp>=0.5 in /usr/local/lib/python3.7/dist-packages (from importlib-metadata>=4.4->markdown>=2.6.8->tensorboard->keras-tuner) (3.8.0)\n",
            "Requirement already satisfied: pyasn1<0.5.0,>=0.4.6 in /usr/local/lib/python3.7/dist-packages (from pyasn1-modules>=0.2.1->google-auth<3,>=1.6.3->tensorboard->keras-tuner) (0.4.8)\n",
            "Requirement already satisfied: oauthlib>=3.0.0 in /usr/local/lib/python3.7/dist-packages (from requests-oauthlib>=0.7.0->google-auth-oauthlib<0.5,>=0.4.1->tensorboard->keras-tuner) (3.2.0)\n",
            "Installing collected packages: kt-legacy, keras-tuner\n",
            "Successfully installed keras-tuner-1.1.2 kt-legacy-1.0.4\n"
          ]
        }
      ]
    },
    {
      "cell_type": "code",
      "source": [
        "from keras_tuner.tuners import RandomSearch"
      ],
      "metadata": {
        "id": "pd91lR6EhDxo"
      },
      "execution_count": null,
      "outputs": []
    },
    {
      "cell_type": "code",
      "source": [
        "from keras."
      ],
      "metadata": {
        "colab": {
          "base_uri": "https://localhost:8080/",
          "height": 322
        },
        "id": "OKlTjx95mWmC",
        "outputId": "8950bbc6-5c06-40c8-c088-dbb2df278f52"
      },
      "execution_count": null,
      "outputs": [
        {
          "output_type": "error",
          "ename": "ImportError",
          "evalue": "ignored",
          "traceback": [
            "\u001b[0;31m---------------------------------------------------------------------------\u001b[0m",
            "\u001b[0;31mImportError\u001b[0m                               Traceback (most recent call last)",
            "\u001b[0;32m<ipython-input-61-b8d7cee20fb6>\u001b[0m in \u001b[0;36m<module>\u001b[0;34m()\u001b[0m\n\u001b[0;32m----> 1\u001b[0;31m \u001b[0;32mfrom\u001b[0m \u001b[0mkeras\u001b[0m\u001b[0;34m.\u001b[0m\u001b[0moptimizers\u001b[0m \u001b[0;32mimport\u001b[0m \u001b[0mAdam\u001b[0m\u001b[0;34m\u001b[0m\u001b[0;34m\u001b[0m\u001b[0m\n\u001b[0m",
            "\u001b[0;31mImportError\u001b[0m: cannot import name 'Adam' from 'keras.optimizers' (/usr/local/lib/python3.7/dist-packages/keras/optimizers.py)",
            "",
            "\u001b[0;31m---------------------------------------------------------------------------\u001b[0;32m\nNOTE: If your import is failing due to a missing package, you can\nmanually install dependencies using either !pip or !apt.\n\nTo view examples of installing some common dependencies, click the\n\"Open Examples\" button below.\n\u001b[0;31m---------------------------------------------------------------------------\u001b[0m\n"
          ],
          "errorDetails": {
            "actions": [
              {
                "action": "open_url",
                "actionText": "Open Examples",
                "url": "/notebooks/snippets/importing_libraries.ipynb"
              }
            ]
          }
        }
      ]
    },
    {
      "cell_type": "markdown",
      "source": [
        "Keras Tuner"
      ],
      "metadata": {
        "id": "WXB1lP_dj_0z"
      }
    },
    {
      "cell_type": "code",
      "source": [
        "import tensorflow as tf\n",
        "def build_model(hp):\n",
        "    model = keras.Sequential()\n",
        "    for i in range(hp.Int('num_layers', 2, 20)):\n",
        "        model.add(Dense(units=hp.Int('units_' + str(i),\n",
        "                                            min_value=32,\n",
        "                                            max_value=512,\n",
        "                                            step=32),\n",
        "                               activation='relu'))\n",
        "    model.add(Dense(1, activation='sigmoid'))\n",
        "    model.compile(\n",
        "        optimizer=tf.keras.optimizers.Adam(\n",
        "            hp.Choice('learning_rate', [1e-2, 1e-3, 1e-4])),\n",
        "        loss='binary_crossentropy',\n",
        "        metrics=['accuracy'])\n",
        "    return model"
      ],
      "metadata": {
        "id": "dD-Bc7MekBKq"
      },
      "execution_count": null,
      "outputs": []
    },
    {
      "cell_type": "code",
      "source": [
        "import keras_tuner as kt\n",
        "tuner = kt.RandomSearch(\n",
        "    build_model,\n",
        "    objective='val_loss',\n",
        "    max_trials=5,\n",
        "    directory='churn-model',\n",
        "    project_name='churn'\n",
        "    )"
      ],
      "metadata": {
        "id": "VUn0HbnpkDzD"
      },
      "execution_count": null,
      "outputs": []
    },
    {
      "cell_type": "code",
      "source": [
        "tuner.search_space_summary()"
      ],
      "metadata": {
        "colab": {
          "base_uri": "https://localhost:8080/"
        },
        "id": "t66Vv65yl9Sz",
        "outputId": "d9e36293-918f-4df9-8ccb-89feb70c81e7"
      },
      "execution_count": null,
      "outputs": [
        {
          "output_type": "stream",
          "name": "stdout",
          "text": [
            "Search space summary\n",
            "Default search space size: 4\n",
            "num_layers (Int)\n",
            "{'default': None, 'conditions': [], 'min_value': 2, 'max_value': 20, 'step': 1, 'sampling': None}\n",
            "units_0 (Int)\n",
            "{'default': None, 'conditions': [], 'min_value': 32, 'max_value': 512, 'step': 32, 'sampling': None}\n",
            "units_1 (Int)\n",
            "{'default': None, 'conditions': [], 'min_value': 32, 'max_value': 512, 'step': 32, 'sampling': None}\n",
            "learning_rate (Choice)\n",
            "{'default': 0.01, 'conditions': [], 'values': [0.01, 0.001, 0.0001], 'ordered': True}\n"
          ]
        }
      ]
    },
    {
      "cell_type": "code",
      "source": [
        "tuner.search(X_train, y_train,\n",
        "             epochs=5,\n",
        "             validation_data=(X_test, y_test))"
      ],
      "metadata": {
        "colab": {
          "base_uri": "https://localhost:8080/"
        },
        "id": "FgTf8IsZnCt0",
        "outputId": "763b4603-ba00-48b5-9fd1-1988fc17f75e"
      },
      "execution_count": null,
      "outputs": [
        {
          "output_type": "stream",
          "name": "stdout",
          "text": [
            "Trial 5 Complete [00h 00m 07s]\n",
            "val_loss: 0.33995726704597473\n",
            "\n",
            "Best val_loss So Far: 0.3385402262210846\n",
            "Total elapsed time: 00h 00m 39s\n",
            "INFO:tensorflow:Oracle triggered exit\n"
          ]
        }
      ]
    },
    {
      "cell_type": "code",
      "source": [
        "best_model = tuner.get_best_models()[0]"
      ],
      "metadata": {
        "id": "pcGXLEgknMvR"
      },
      "execution_count": null,
      "outputs": []
    },
    {
      "cell_type": "code",
      "source": [
        "tuner.get_best_models()[0]"
      ],
      "metadata": {
        "colab": {
          "base_uri": "https://localhost:8080/"
        },
        "id": "Ik6G9Oypnj4R",
        "outputId": "86752dfd-4886-4e21-a587-717dacba9956"
      },
      "execution_count": null,
      "outputs": [
        {
          "output_type": "execute_result",
          "data": {
            "text/plain": [
              "<keras.engine.sequential.Sequential at 0x7fcb72f191d0>"
            ]
          },
          "metadata": {},
          "execution_count": 81
        }
      ]
    },
    {
      "cell_type": "code",
      "source": [
        "tuner.results_summary()"
      ],
      "metadata": {
        "colab": {
          "base_uri": "https://localhost:8080/"
        },
        "id": "t1i5GnYdnlWH",
        "outputId": "03d1e388-604c-4846-8c87-6e01f2df8f8e"
      },
      "execution_count": null,
      "outputs": [
        {
          "output_type": "stream",
          "name": "stdout",
          "text": [
            "Results summary\n",
            "Results in churn-model/churn\n",
            "Showing 10 best trials\n",
            "<keras_tuner.engine.objective.Objective object at 0x7fcb72eba110>\n",
            "Trial summary\n",
            "Hyperparameters:\n",
            "num_layers: 14\n",
            "units_0: 256\n",
            "units_1: 96\n",
            "learning_rate: 0.001\n",
            "units_2: 32\n",
            "units_3: 32\n",
            "units_4: 32\n",
            "units_5: 32\n",
            "units_6: 32\n",
            "units_7: 32\n",
            "units_8: 32\n",
            "units_9: 32\n",
            "units_10: 32\n",
            "units_11: 32\n",
            "units_12: 32\n",
            "units_13: 32\n",
            "Score: 0.3385402262210846\n",
            "Trial summary\n",
            "Hyperparameters:\n",
            "num_layers: 17\n",
            "units_0: 160\n",
            "units_1: 512\n",
            "learning_rate: 0.0001\n",
            "units_2: 96\n",
            "units_3: 96\n",
            "units_4: 32\n",
            "units_5: 256\n",
            "units_6: 64\n",
            "units_7: 320\n",
            "units_8: 96\n",
            "units_9: 224\n",
            "units_10: 64\n",
            "units_11: 96\n",
            "units_12: 128\n",
            "units_13: 160\n",
            "units_14: 32\n",
            "units_15: 32\n",
            "units_16: 32\n",
            "Score: 0.33995726704597473\n",
            "Trial summary\n",
            "Hyperparameters:\n",
            "num_layers: 10\n",
            "units_0: 224\n",
            "units_1: 416\n",
            "learning_rate: 0.0001\n",
            "units_2: 288\n",
            "units_3: 480\n",
            "units_4: 480\n",
            "units_5: 256\n",
            "units_6: 96\n",
            "units_7: 128\n",
            "units_8: 448\n",
            "units_9: 320\n",
            "units_10: 512\n",
            "units_11: 384\n",
            "units_12: 352\n",
            "units_13: 256\n",
            "Score: 0.34349507093429565\n",
            "Trial summary\n",
            "Hyperparameters:\n",
            "num_layers: 2\n",
            "units_0: 96\n",
            "units_1: 512\n",
            "learning_rate: 0.0001\n",
            "Score: 0.3764656186103821\n",
            "Trial summary\n",
            "Hyperparameters:\n",
            "num_layers: 9\n",
            "units_0: 384\n",
            "units_1: 384\n",
            "learning_rate: 0.01\n",
            "units_2: 96\n",
            "units_3: 384\n",
            "units_4: 288\n",
            "units_5: 352\n",
            "units_6: 160\n",
            "units_7: 352\n",
            "units_8: 288\n",
            "units_9: 480\n",
            "units_10: 128\n",
            "units_11: 512\n",
            "units_12: 192\n",
            "units_13: 352\n",
            "Score: 0.44357770681381226\n"
          ]
        }
      ]
    },
    {
      "cell_type": "code",
      "source": [],
      "metadata": {
        "id": "Iy7odfB-n0Yo"
      },
      "execution_count": null,
      "outputs": []
    }
  ]
}